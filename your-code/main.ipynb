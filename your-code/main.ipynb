{
  "cells": [
    {
      "cell_type": "markdown",
      "metadata": {
        "id": "P-UwIBc5VA6q"
      },
      "source": [
        "# Confidence Intervals"
      ]
    },
    {
      "cell_type": "code",
      "execution_count": null,
      "metadata": {
        "id": "5m9ATWnBVA6t"
      },
      "outputs": [],
      "source": [
        "# Libraries\n",
        "\n",
        "import numpy as np\n",
        "from scipy.stats import norm"
      ]
    },
    {
      "cell_type": "markdown",
      "metadata": {
        "id": "g03IF8SEVA6u"
      },
      "source": [
        "## Challenge 1\n",
        "We want to estimate the average size of the men of a country with a confidence level of 80%. Assuming that the standard deviation of the sizes in the population is 4, get the confidence interval with a sample of men selected randomly, whose heights are:\n",
        "\n",
        "````\n",
        "heights = [167, 167, 168, 168, 168, 169, 171, 172, 173, 175, 175, 175, 177, 182, 195]\n",
        "````\n",
        "\n",
        "**Hint**: function `stats.norm.interval` from `scipy` can help you get through this exercise."
      ]
    },
    {
      "cell_type": "code",
      "execution_count": null,
      "metadata": {
        "colab": {
          "base_uri": "https://localhost:8080/"
        },
        "id": "LuKcJq87VA6v",
        "outputId": "db22408b-efa1-43d6-8454-04b1942e7087"
      },
      "outputs": [
        {
          "output_type": "execute_result",
          "data": {
            "text/plain": [
              "(172.14308590115726, 174.79024743217607)"
            ]
          },
          "metadata": {},
          "execution_count": 5
        }
      ],
      "source": [
        "# your code here\n",
        "\n",
        "heights = [167, 167, 168, 168, 168, 169, 171, 172, 173, 175, 175, 175, 177, 182, 195]\n",
        "confidence_level = 0.80  # 80% confidence level\n",
        "sample_mean = np.mean(heights)\n",
        "sample_size = len(heights)\n",
        "population_std_dev = 4  # Standard deviation of the population\n",
        "\n",
        "# Calculate the standard error of the mean\n",
        "standard_error = population_std_dev / np.sqrt(sample_size)\n",
        "\n",
        "# Use scipy.stats.norm.interval to calculate the confidence interval\n",
        "confidence_interval = norm.interval(confidence_level, loc=sample_mean, scale=standard_error)\n",
        "\n",
        "confidence_interval"
      ]
    },
    {
      "cell_type": "markdown",
      "metadata": {
        "id": "ELSPMIQrVA6w"
      },
      "source": [
        "## Challenge 2\n",
        "In a sample of 105 shops selected randomly from an area, we note that 27 of them have had losses in this month. Get an interval for the proportion of businesses in the area with losses to a confidence level of 80% and a confidence level of 90%.\n",
        "\n",
        "**Hint**: function `stats.norm.interval` from `scipy` can help you get through this exercise."
      ]
    },
    {
      "cell_type": "code",
      "execution_count": null,
      "metadata": {
        "colab": {
          "base_uri": "https://localhost:8080/"
        },
        "id": "a_5qdenjVA6x",
        "outputId": "4b6f2669-b967-4b76-e64a-fdeb321cbd68"
      },
      "outputs": [
        {
          "output_type": "stream",
          "name": "stdout",
          "text": [
            "Sample Proportion: 0.2571428571428571\n",
            "Confidence Interval (at 80.0%): (0.20248138545542083, 0.3118043288302934)\n",
            "Confidence Interval (at 90.0%): (0.1869856177645281, 0.3273000965211861)\n"
          ]
        }
      ],
      "source": [
        "# your code here\n",
        "\n",
        "import numpy as np\n",
        "from scipy.stats import norm\n",
        "\n",
        "# Parameters\n",
        "sample_size = 105\n",
        "businesses_with_losses = 27\n",
        "\n",
        "# Proportion of businesses with losses in the sample\n",
        "sample_proportion = businesses_with_losses / sample_size\n",
        "\n",
        "# Confidence levels\n",
        "confidence_level_80 = 0.80\n",
        "confidence_level_90 = 0.90\n",
        "\n",
        "# Calculate the standard error of the proportion\n",
        "standard_error = np.sqrt((sample_proportion * (1 - sample_proportion)) / sample_size)\n",
        "\n",
        "# Use scipy.stats.norm.interval to calculate the confidence intervals\n",
        "confidence_interval_80 = norm.interval(confidence_level_80, loc=sample_proportion, scale=standard_error)\n",
        "confidence_interval_90 = norm.interval(confidence_level_90, loc=sample_proportion, scale=standard_error)\n",
        "\n",
        "print(f\"Sample Proportion: {sample_proportion}\")\n",
        "print(f\"Confidence Interval (at {confidence_level_80 * 100}%): {confidence_interval_80}\")\n",
        "print(f\"Confidence Interval (at {confidence_level_90 * 100}%): {confidence_interval_90}\")\n"
      ]
    },
    {
      "cell_type": "markdown",
      "metadata": {
        "id": "MMCoJGUlVA6x"
      },
      "source": [
        "## Bonus Challenge\n",
        "The error level or sampling error for the first challenge is given by the following expression:\n",
        "$$Error = z_{\\frac{\\alpha}{2}}\\frac{\\sigma}{\\sqrt n}$$\n",
        "Where z represents the value for N(0,1)\n",
        "\n",
        "\n",
        "Suppose that with the previous data of challenge 1, and with a confidence level of\n",
        "99% (that is, almost certainly) we want to estimate the average population size, so that the error level committed is not greater than half a centimeter.\n",
        "\n",
        "#### 1.- Determine what size the selected sample of men should be."
      ]
    },
    {
      "cell_type": "code",
      "execution_count": null,
      "metadata": {
        "id": "56LcdgAPVA6y"
      },
      "outputs": [],
      "source": [
        "# your code here"
      ]
    },
    {
      "cell_type": "markdown",
      "metadata": {
        "id": "vCQjy74FVA6y"
      },
      "source": [
        "#### 2.- For the second challenge, we have the following error:\n",
        "$$ Error = z_{\\frac{\\alpha}{2}}\\sqrt{\\frac{p\\times q}{n}} $$\n",
        "#### Determine the sample size required to not exceed an error of 1% with a confidence of 80%."
      ]
    },
    {
      "cell_type": "code",
      "execution_count": null,
      "metadata": {
        "id": "TOeOKdxqVA6z"
      },
      "outputs": [],
      "source": [
        "# your code here"
      ]
    },
    {
      "cell_type": "markdown",
      "metadata": {
        "id": "p1AbhyxpVA60"
      },
      "source": [
        "## Bonus Challenge\n",
        "\n",
        "Let's consider the following problem:\n",
        "\n",
        "Build a confidence interval of 94% for the real difference between the durations of two brands of spotlights, if a sample of 40 spotlights taken randomly from the first mark gave an average duration of 418 hours, and a sample of 50 bulbs of another brand gave a duration average of 402 hours. The standard deviations of the two\n",
        "populations are 26 hours and 22 hours, respectively.\n",
        "\n",
        "Sometimes, we will be interested in the difference of two different groups of random variables. We can also build a confidence interval for that! We have some different cases regarding the variance but for this specific case (the variance are different and known), we have that:\n",
        "\n",
        "$$\\overline{X} - \\overline{Y}  \\sim N(\\mu_{X} - \\mu_{Y} , \\sqrt{\\frac{\\sigma_{X}^2}{n_X}+\\frac{\\sigma_{Y}^2}{n_Y}})$$\n",
        "\n",
        "Solve the problem with this information."
      ]
    },
    {
      "cell_type": "code",
      "execution_count": null,
      "metadata": {
        "id": "QqQtoV_CVA60"
      },
      "outputs": [],
      "source": [
        "# your code here"
      ]
    }
  ],
  "metadata": {
    "kernelspec": {
      "display_name": "Python 3",
      "language": "python",
      "name": "python3"
    },
    "language_info": {
      "codemirror_mode": {
        "name": "ipython",
        "version": 3
      },
      "file_extension": ".py",
      "mimetype": "text/x-python",
      "name": "python",
      "nbconvert_exporter": "python",
      "pygments_lexer": "ipython3",
      "version": "3.7.3"
    },
    "colab": {
      "provenance": []
    }
  },
  "nbformat": 4,
  "nbformat_minor": 0
}